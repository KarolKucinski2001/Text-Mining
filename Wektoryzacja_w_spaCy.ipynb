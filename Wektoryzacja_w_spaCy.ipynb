{
  "nbformat": 4,
  "nbformat_minor": 0,
  "metadata": {
    "colab": {
      "provenance": []
    },
    "kernelspec": {
      "name": "python3",
      "display_name": "Python 3"
    },
    "language_info": {
      "name": "python"
    }
  },
  "cells": [
    {
      "cell_type": "code",
      "source": [
        "import pandas as pd\n",
        "import spacy\n",
        "from sklearn.metrics.pairwise import cosine_similarity\n",
        "from textblob import TextBlob\n",
        "import numpy as np\n",
        "import re\n",
        "\n",
        "#!python -m spacy download en_core_web_md\n",
        "nlp = spacy.load('en_core_web_md')"
      ],
      "metadata": {
        "id": "umT0shFjOmEY"
      },
      "execution_count": 6,
      "outputs": []
    },
    {
      "cell_type": "markdown",
      "source": [
        "Przeanalizować, czy pojawia się sarkazm i ironia w toksycznych komentarzach, szukając niezgodności między dosłownym znaczeniem a kontekstem emocjonalnym. Wykorzystać wektoryzację, aby analizować podobieństwo semantyczne komentarzy do przeciwstawnych emocji."
      ],
      "metadata": {
        "id": "C-81cC_TOpCe"
      }
    },
    {
      "cell_type": "code",
      "source": [
        "df = pd.read_csv('sample.csv')\n",
        "\n",
        "positive_emotion_terms = \"joy, happiness, delight, love\"\n",
        "negative_emotion_terms = \"anger, hatred, sadness, fear\"\n",
        "positive_emotion_vector = nlp(positive_emotion_terms).vector\n",
        "negative_emotion_vector = nlp(negative_emotion_terms).vector\n",
        "\n",
        "positive_keywords = {\"happy\", \"joy\", \"delight\", \"love\", \"exciting\", \"good\"}\n",
        "negative_keywords = {\"angry\", \"hate\", \"bad\", \"sad\", \"awful\", \"terrible\"}\n",
        "\n",
        "def analyze_sarcasm(comment):\n",
        "    doc = nlp(comment)\n",
        "    doc_vector = doc.vector\n",
        "\n",
        "    sentiment_analysis = TextBlob(comment)\n",
        "    polarity = sentiment_analysis.sentiment.polarity\n",
        "\n",
        "    positive_count = sum(1 for token in doc if token.lemma_ in positive_keywords)\n",
        "    negative_count = sum(1 for token in doc if token.lemma_ in negative_keywords)\n",
        "\n",
        "    similarity_to_positive = cosine_similarity([doc_vector], [positive_emotion_vector])[0][0]\n",
        "    similarity_to_negative = cosine_similarity([doc_vector], [negative_emotion_vector])[0][0]\n",
        "\n",
        "    if polarity > 0 and negative_count > positive_count:\n",
        "        return 'Potencjalny sarkazm'\n",
        "    elif polarity < 0 and positive_count > negative_count:\n",
        "        return 'Potencjalny sarkazm'\n",
        "    elif similarity_to_negative > similarity_to_positive:\n",
        "        return 'Możliwy sarkazm'\n",
        "    else:\n",
        "        return 'Brak sarkazmu'\n",
        "\n",
        "df['sarcasm_detection'] = df['comment_text'].apply(analyze_sarcasm)\n",
        "print(df[['comment_text', 'sarcasm_detection']].head())\n"
      ],
      "metadata": {
        "colab": {
          "base_uri": "https://localhost:8080/"
        },
        "id": "po8Bj5bGOtLX",
        "outputId": "e4a3a5ea-062d-4bb1-b223-3b010ccd71f0"
      },
      "execution_count": 7,
      "outputs": [
        {
          "output_type": "stream",
          "name": "stdout",
          "text": [
            "                                        comment_text sarcasm_detection\n",
            "0  What a breathe of fresh air to have someone wh...     Brak sarkazmu\n",
            "1  Your jewish friends were the ones who told you...   Możliwy sarkazm\n",
            "2  Possible collusion by Trump and his affiliates...   Możliwy sarkazm\n",
            "3  Exactly.  We need a % of GDP spending cap at t...     Brak sarkazmu\n",
            "4  By your own comment, even if some of them vote...   Możliwy sarkazm\n"
          ]
        }
      ]
    },
    {
      "cell_type": "markdown",
      "source": [
        "Dla książek Anna Karenina oraz Jane Eyre - Wyodrębnić opisy i dialogi wybranych bohaterów, np. Anny, Aleksieja, Jane i Edwarda. Obliczyć podobieństwa semantyczne między bohaterami i określić, jak różne są ich osobowości."
      ],
      "metadata": {
        "id": "xW6ylCsrO117"
      }
    },
    {
      "cell_type": "code",
      "source": [
        "with open('anna_karenina.txt', 'r', encoding='utf-8') as file:\n",
        "    anna_karenina_text = file.read()\n",
        "\n",
        "with open('jane_eyre.txt', 'r', encoding='utf-8') as file:\n",
        "    jane_eyre_text = file.read()\n",
        "\n",
        "def analyze_character_text(text, character_name):\n",
        "    sentences = re.split(r'[.!?]', text)\n",
        "    character_related = [sentence.strip() for sentence in sentences if character_name in sentence]\n",
        "\n",
        "    descriptions = []\n",
        "    dialogues = []\n",
        "\n",
        "    for sentence in character_related:\n",
        "        if '\"' in sentence or \"'\" in sentence:\n",
        "            dialogues.append(sentence)\n",
        "        else:\n",
        "            descriptions.append(sentence)\n",
        "\n",
        "    description_vector = nlp(' '.join(descriptions)).vector if descriptions else np.zeros((300,))\n",
        "    dialogue_vector = nlp(' '.join(dialogues)).vector if dialogues else np.zeros((300,))\n",
        "\n",
        "    return description_vector, dialogue_vector\n",
        "\n",
        "anna_desc_vec, anna_dial_vec = analyze_character_text(anna_karenina_text, \"Anna\")\n",
        "alexei_desc_vec, alexei_dial_vec = analyze_character_text(anna_karenina_text, \"Alexei\")\n",
        "jane_desc_vec, jane_dial_vec = analyze_character_text(jane_eyre_text, \"Jane\")\n",
        "edward_desc_vec, edward_dial_vec = analyze_character_text(jane_eyre_text, \"Edward\")\n",
        "\n",
        "similarity_anna_jane_desc = cosine_similarity([anna_desc_vec], [jane_desc_vec])[0][0]\n",
        "similarity_alexei_edward_desc = cosine_similarity([alexei_desc_vec], [edward_desc_vec])[0][0]\n",
        "\n",
        "print(f'Podobieństwo opisów między Anną i Jane: {similarity_anna_jane_desc}')\n",
        "print(f'Podobieństwo opisów między Aleksiejem i Edwardem: {similarity_alexei_edward_desc}')\n",
        "\n",
        "similarity_anna_jane_dial = cosine_similarity([anna_dial_vec], [jane_dial_vec])[0][0]\n",
        "similarity_alexei_edward_dial = cosine_similarity([alexei_dial_vec], [edward_dial_vec])[0][0]\n",
        "\n",
        "print(f'Podobieństwo dialogów między Anną i Jane: {similarity_anna_jane_dial}')\n",
        "print(f'Podobieństwo dialogów między Aleksiejem i Edwardem: {similarity_alexei_edward_dial}')\n"
      ],
      "metadata": {
        "colab": {
          "base_uri": "https://localhost:8080/"
        },
        "id": "xgsu9irhONZ3",
        "outputId": "31485c5f-483a-4835-c857-4ef70cf11a4a"
      },
      "execution_count": 8,
      "outputs": [
        {
          "output_type": "stream",
          "name": "stdout",
          "text": [
            "Podobieństwo opisów między Anną i Jane: 0.9400222301483154\n",
            "Podobieństwo opisów między Aleksiejem i Edwardem: 0.7150282263755798\n",
            "Podobieństwo dialogów między Anną i Jane: 0.0\n",
            "Podobieństwo dialogów między Aleksiejem i Edwardem: 0.0\n"
          ]
        }
      ]
    }
  ]
}